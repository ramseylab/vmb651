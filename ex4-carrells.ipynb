{
 "cells": [
  {
   "cell_type": "markdown",
   "metadata": {},
   "source": [
    "from Bio import Entrez\n",
    "from Bio import SeqIO\n",
    "Entrez.email = \"carrells+vmb651@oregonstate.edu\"\n",
    "with Entrez.esearch(db=\"nucleotide\",\n",
    "                    term=\"SARS-CoV-2\",\n",
    "                    idtype=\"acc\",\n",
    "                    retmax=1000) as result_handle:\n",
    "    sequence_ids_combined = ','.join(Entrez.read(result_handle)['IdList'])\n",
    "    with Entrez.efetch(db=\"nucleotide\",\n",
    "                      rettype=\"fasta\",\n",
    "                      retmode=\"text\",\n",
    "                      id=sequence_ids_combined) as sub_result_handle:\n",
    "        SeqIO.write(SeqIO.parse(sub_result_handle, \"fasta\"),\n",
    "                   \"covid19.fasta\",\"fasta\")\n",
    "        \n",
    "\n",
    "import statistics\n",
    "\n",
    "records = list(SeqIO.parse(\"covid19.fasta\",\"fasta\"))\n",
    "print(\"Total reads: %i\" % len(records))\n",
    "\n"
   ]
  },
  {
   "cell_type": "code",
   "execution_count": null,
   "metadata": {},
   "outputs": [],
   "source": []
  },
  {
   "cell_type": "code",
   "execution_count": null,
   "metadata": {},
   "outputs": [],
   "source": []
  },
  {
   "cell_type": "code",
   "execution_count": null,
   "metadata": {},
   "outputs": [],
   "source": []
  }
 ],
 "metadata": {
  "kernelspec": {
   "display_name": "Python 3",
   "language": "python",
   "name": "python3"
  },
  "language_info": {
   "codemirror_mode": {
    "name": "ipython",
    "version": 3
   },
   "file_extension": ".py",
   "mimetype": "text/x-python",
   "name": "python",
   "nbconvert_exporter": "python",
   "pygments_lexer": "ipython3",
   "version": "3.7.3"
  }
 },
 "nbformat": 4,
 "nbformat_minor": 4
}
