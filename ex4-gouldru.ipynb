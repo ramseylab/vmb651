{
 "nbformat": 4,
 "nbformat_minor": 2,
 "metadata": {
  "language_info": {
   "name": "python",
   "codemirror_mode": {
    "name": "ipython",
    "version": 3
   },
   "version": "3.8.2-final"
  },
  "orig_nbformat": 2,
  "file_extension": ".py",
  "mimetype": "text/x-python",
  "name": "python",
  "npconvert_exporter": "python",
  "pygments_lexer": "ipython3",
  "version": 3,
  "kernelspec": {
   "name": "python38264bit4f9ab20b88dc4e66a5f8689d42e95368",
   "display_name": "Python 3.8.2 64-bit"
  }
 },
 "cells": [
  {
   "cell_type": "markdown",
   "metadata": {},
   "source": [
    "# Download SARS-CoV-2 Sequences\n",
    "This notebook downloads up to 1000 RNA sequences from NCBI for the novel coronavirus covid 19.\n",
    "\n",
    "## Dependencies\n",
    "Biopython"
   ]
  },
  {
   "cell_type": "code",
   "execution_count": 1,
   "metadata": {},
   "outputs": [],
   "source": [
    "from Bio import Entrez\n",
    "from Bio import SeqIO"
   ]
  },
  {
   "cell_type": "markdown",
   "metadata": {},
   "source": [
    "### Download seqs and count how many are downloaded"
   ]
  },
  {
   "cell_type": "code",
   "execution_count": 2,
   "metadata": {
    "tags": [
     "outputPrepend"
    ]
   },
   "outputs": [],
   "source": [
    "Entrez.email = \"ramsstephen+vmb651@gmail.com\"\n",
    "with Entrez.esearch(\n",
    "    db=\"nucleotide\", term=\"SARS-CoV-2\", idtype=\"acc\", retmax=1000\n",
    ") as result_handle:\n",
    "    sequence_ids_combined = \",\".join(Entrez.read(result_handle)[\"IdList\"])\n",
    "    with Entrez.efetch(\n",
    "        db=\"nucleotide\", rettype=\"fasta\", retmode=\"text\", id=sequence_ids_combined\n",
    "    ) as sub_result_handle:\n",
    "        parser = SeqIO.parse(sub_result_handle, \"fasta\")\n",
    "        seqs = list(parser)\n",
    "        num_seqs = len(seqs)\n",
    "        SeqIO.write(seqs, \"covid19.fasta\", \"fasta\")"
   ]
  },
  {
   "cell_type": "markdown",
   "metadata": {},
   "source": [
    "### Print number of seqs downloaded"
   ]
  },
  {
   "cell_type": "code",
   "execution_count": 3,
   "metadata": {},
   "outputs": [
    {
     "output_type": "stream",
     "name": "stdout",
     "text": "552\n"
    }
   ],
   "source": [
    "print(num_seqs)"
   ]
  },
  {
   "cell_type": "code",
   "execution_count": 4,
   "metadata": {
    "tags": [
     "outputPrepend"
    ]
   },
   "outputs": [
    {
     "output_type": "stream",
     "name": "stdout",
     "text": "sion ID: MT293174\nDate: 06-APR-2020\nAccession ID: MT293173\nDate: 06-APR-2020\nAccession ID: MT293172\nDate: 06-APR-2020\nAccession ID: MT293171\nDate: 06-APR-2020\nAccession ID: MT293170\nDate: 06-APR-2020\nAccession ID: MT293169\nDate: 06-APR-2020\nAccession ID: MT293168\nDate: 06-APR-2020\nAccession ID: MT293167\nDate: 06-APR-2020\nAccession ID: MT293166\nDate: 06-APR-2020\nAccession ID: MT293165\nDate: 06-APR-2020\nAccession ID: MT293164\nDate: 06-APR-2020\nAccession ID: MT293163\nDate: 06-APR-2020\nAccession ID: MT293162\nDate: 06-APR-2020\nAccession ID: MT293161\nDate: 06-APR-2020\nAccession ID: MT293160\nDate: 06-APR-2020\nAccession ID: MT293159\nDate: 06-APR-2020\nAccession ID: MT293158\nDate: 06-APR-2020\nAccession ID: MT293157\nDate: 06-APR-2020\nAccession ID: MT293156\nDate: 06-APR-2020\nAccession ID: MT281577\nDate: 09-APR-2020\nAccession ID: MT281530\nDate: 06-APR-2020\nAccession ID: MT273658\nDate: 06-APR-2020\nAccession ID: MT292582\nDate: 06-APR-2020\nAccession ID: MT292581\nDate: 06-APR-2020\nAccession ID: MT292580\nDate: 06-APR-2020\nAccession ID: MT292579\nDate: 06-APR-2020\nAccession ID: MT292578\nDate: 06-APR-2020\nAccession ID: MT292577\nDate: 06-APR-2020\nAccession ID: MT292576\nDate: 06-APR-2020\nAccession ID: MT292575\nDate: 06-APR-2020\nAccession ID: MT292574\nDate: 06-APR-2020\nAccession ID: MT292573\nDate: 06-APR-2020\nAccession ID: MT292572\nDate: 06-APR-2020\nAccession ID: MT292571\nDate: 06-APR-2020\nAccession ID: MT292570\nDate: 06-APR-2020\nAccession ID: MT292569\nDate: 06-APR-2020\nAccession ID: MT276598\nDate: 06-APR-2020\nAccession ID: MT276597\nDate: 06-APR-2020\nAccession ID: MT276331\nDate: 06-APR-2020\nAccession ID: MT276330\nDate: 06-APR-2020\nAccession ID: MT276329\nDate: 06-APR-2020\nAccession ID: MT276328\nDate: 06-APR-2020\nAccession ID: MT276327\nDate: 06-APR-2020\nAccession ID: MT276326\nDate: 06-APR-2020\nAccession ID: MT276325\nDate: 06-APR-2020\nAccession ID: MT276324\nDate: 06-APR-2020\nAccession ID: MT276323\nDate: 06-APR-2020\nAccession ID: MT263469\nDate: 06-APR-2020\nAccession ID: MT263468\nDate: 06-APR-2020\nAccession ID: MT263467\nDate: 06-APR-2020\nAccession ID: MT263466\nDate: 06-APR-2020\nAccession ID: MT263465\nDate: 06-APR-2020\nAccession ID: MT263464\nDate: 06-APR-2020\nAccession ID: MT263463\nDate: 06-APR-2020\nAccession ID: MT263462\nDate: 06-APR-2020\nAccession ID: MT263461\nDate: 06-APR-2020\nAccession ID: MT263460\nDate: 06-APR-2020\nAccession ID: MT263459\nDate: 06-APR-2020\nAccession ID: MT263458\nDate: 06-APR-2020\nAccession ID: MT263457\nDate: 06-APR-2020\nAccession ID: MT263456\nDate: 06-APR-2020\nAccession ID: MT263455\nDate: 06-APR-2020\nAccession ID: MT263454\nDate: 06-APR-2020\nAccession ID: MT263453\nDate: 06-APR-2020\nAccession ID: MT263452\nDate: 06-APR-2020\nAccession ID: MT263451\nDate: 06-APR-2020\nAccession ID: MT263450\nDate: 06-APR-2020\nAccession ID: MT263449\nDate: 06-APR-2020\nAccession ID: MT263448\nDate: 06-APR-2020\nAccession ID: MT263447\nDate: 06-APR-2020\nAccession ID: MT263446\nDate: 06-APR-2020\nAccession ID: MT263445\nDate: 06-APR-2020\nAccession ID: MT263444\nDate: 06-APR-2020\nAccession ID: MT263443\nDate: 06-APR-2020\nAccession ID: MT263442\nDate: 06-APR-2020\nAccession ID: MT263441\nDate: 06-APR-2020\nAccession ID: MT263440\nDate: 06-APR-2020\nAccession ID: MT263439\nDate: 06-APR-2020\nAccession ID: MT263438\nDate: 06-APR-2020\nAccession ID: MT263437\nDate: 06-APR-2020\nAccession ID: MT263436\nDate: 06-APR-2020\nAccession ID: MT263435\nDate: 06-APR-2020\nAccession ID: MT263434\nDate: 06-APR-2020\nAccession ID: MT263433\nDate: 06-APR-2020\nAccession ID: MT263432\nDate: 06-APR-2020\nAccession ID: MT263431\nDate: 06-APR-2020\nAccession ID: MT263430\nDate: 06-APR-2020\nAccession ID: MT263429\nDate: 06-APR-2020\nAccession ID: MT263428\nDate: 06-APR-2020\nAccession ID: MT263427\nDate: 06-APR-2020\nAccession ID: MT263426\nDate: 06-APR-2020\nAccession ID: MT263425\nDate: 06-APR-2020\nAccession ID: MT263424\nDate: 06-APR-2020\nAccession ID: MT263423\nDate: 06-APR-2020\nAccession ID: MT263422\nDate: 06-APR-2020\nAccession ID: MT263421\nDate: 06-APR-2020\nAccession ID: MT263420\nDate: 06-APR-2020\nAccession ID: MT263419\nDate: 06-APR-2020\nAccession ID: MT263418\nDate: 06-APR-2020\nAccession ID: MT263417\nDate: 06-APR-2020\nAccession ID: MT263416\nDate: 06-APR-2020\nAccession ID: MT263415\nDate: 06-APR-2020\nAccession ID: MT263414\nDate: 06-APR-2020\nAccession ID: MT263413\nDate: 06-APR-2020\nAccession ID: MT263412\nDate: 06-APR-2020\nAccession ID: MT263411\nDate: 06-APR-2020\nAccession ID: MT263410\nDate: 06-APR-2020\nAccession ID: MT263409\nDate: 06-APR-2020\nAccession ID: MT263408\nDate: 06-APR-2020\nAccession ID: MT263407\nDate: 06-APR-2020\nAccession ID: MT263406\nDate: 06-APR-2020\nAccession ID: MT263405\nDate: 06-APR-2020\nAccession ID: MT263404\nDate: 06-APR-2020\nAccession ID: MT263403\nDate: 06-APR-2020\nAccession ID: MT263402\nDate: 06-APR-2020\nAccession ID: MT263401\nDate: 06-APR-2020\nAccession ID: MT263400\nDate: 06-APR-2020\nAccession ID: MT263399\nDate: 06-APR-2020\nAccession ID: MT263398\nDate: 06-APR-2020\nAccession ID: MT263397\nDate: 06-APR-2020\nAccession ID: MT263396\nDate: 06-APR-2020\nAccession ID: MT263395\nDate: 06-APR-2020\nAccession ID: MT263394\nDate: 06-APR-2020\nAccession ID: MT263393\nDate: 06-APR-2020\nAccession ID: MT263392\nDate: 06-APR-2020\nAccession ID: MT263391\nDate: 06-APR-2020\nAccession ID: MT263390\nDate: 06-APR-2020\nAccession ID: MT263389\nDate: 06-APR-2020\nAccession ID: MT263388\nDate: 06-APR-2020\nAccession ID: MT263387\nDate: 06-APR-2020\nAccession ID: MT263386\nDate: 06-APR-2020\nAccession ID: MT263385\nDate: 06-APR-2020\nAccession ID: MT263384\nDate: 06-APR-2020\nAccession ID: MT263383\nDate: 06-APR-2020\nAccession ID: MT263382\nDate: 06-APR-2020\nAccession ID: MT263381\nDate: 06-APR-2020\nAccession ID: MT262916\nDate: 06-APR-2020\nAccession ID: MT262915\nDate: 06-APR-2020\nAccession ID: MT262914\nDate: 06-APR-2020\nAccession ID: MT262913\nDate: 06-APR-2020\nAccession ID: MT262912\nDate: 06-APR-2020\nAccession ID: MT262911\nDate: 06-APR-2020\nAccession ID: MT262910\nDate: 06-APR-2020\nAccession ID: MT262909\nDate: 06-APR-2020\nAccession ID: MT262908\nDate: 06-APR-2020\nAccession ID: MT262907\nDate: 06-APR-2020\nAccession ID: MT262906\nDate: 06-APR-2020\nAccession ID: MT262905\nDate: 06-APR-2020\nAccession ID: MT262904\nDate: 06-APR-2020\nAccession ID: MT262903\nDate: 06-APR-2020\nAccession ID: MT262902\nDate: 06-APR-2020\nAccession ID: MT262901\nDate: 06-APR-2020\nAccession ID: MT262900\nDate: 06-APR-2020\nAccession ID: MT262899\nDate: 06-APR-2020\nAccession ID: MT262898\nDate: 06-APR-2020\nAccession ID: MT262897\nDate: 06-APR-2020\nAccession ID: MT262896\nDate: 06-APR-2020\nAccession ID: MT263074\nDate: 06-APR-2020\nAccession ID: MT262993\nDate: 06-APR-2020\nAccession ID: MT259287\nDate: 06-APR-2020\nAccession ID: MT259286\nDate: 06-APR-2020\nAccession ID: MT259285\nDate: 06-APR-2020\nAccession ID: MT259284\nDate: 06-APR-2020\nAccession ID: MT259283\nDate: 06-APR-2020\nAccession ID: MT259282\nDate: 06-APR-2020\nAccession ID: MT259281\nDate: 06-APR-2020\nAccession ID: MT259280\nDate: 06-APR-2020\nAccession ID: MT259279\nDate: 06-APR-2020\nAccession ID: MT259278\nDate: 06-APR-2020\nAccession ID: MT259277\nDate: 06-APR-2020\nAccession ID: MT259276\nDate: 06-APR-2020\nAccession ID: MT259275\nDate: 06-APR-2020\nAccession ID: MT259274\nDate: 06-APR-2020\nAccession ID: MT259273\nDate: 06-APR-2020\nAccession ID: MT259272\nDate: 06-APR-2020\nAccession ID: MT259271\nDate: 06-APR-2020\nAccession ID: MT259270\nDate: 06-APR-2020\nAccession ID: MT259269\nDate: 06-APR-2020\nAccession ID: MT259268\nDate: 06-APR-2020\nAccession ID: MT259267\nDate: 06-APR-2020\nAccession ID: MT259266\nDate: 06-APR-2020\nAccession ID: MT259265\nDate: 06-APR-2020\nAccession ID: MT259264\nDate: 06-APR-2020\nAccession ID: MT259263\nDate: 06-APR-2020\nAccession ID: MT259262\nDate: 06-APR-2020\nAccession ID: MT259261\nDate: 06-APR-2020\nAccession ID: MT259260\nDate: 06-APR-2020\nAccession ID: MT259259\nDate: 06-APR-2020\nAccession ID: MT259258\nDate: 06-APR-2020\nAccession ID: MT259257\nDate: 06-APR-2020\nAccession ID: MT259256\nDate: 06-APR-2020\nAccession ID: MT259255\nDate: 06-APR-2020\nAccession ID: MT259254\nDate: 06-APR-2020\nAccession ID: MT259253\nDate: 06-APR-2020\nAccession ID: MT259252\nDate: 06-APR-2020\nAccession ID: MT259251\nDate: 06-APR-2020\nAccession ID: MT259250\nDate: 06-APR-2020\nAccession ID: MT259249\nDate: 06-APR-2020\nAccession ID: MT259248\nDate: 06-APR-2020\nAccession ID: MT259247\nDate: 06-APR-2020\nAccession ID: MT259246\nDate: 06-APR-2020\nAccession ID: MT259245\nDate: 06-APR-2020\nAccession ID: MT259244\nDate: 06-APR-2020\nAccession ID: MT259243\nDate: 06-APR-2020\nAccession ID: MT259242\nDate: 06-APR-2020\nAccession ID: MT259241\nDate: 06-APR-2020\nAccession ID: MT259240\nDate: 06-APR-2020\nAccession ID: MT259239\nDate: 06-APR-2020\nAccession ID: MT259238\nDate: 06-APR-2020\nAccession ID: MT259237\nDate: 06-APR-2020\nAccession ID: MT259236\nDate: 06-APR-2020\nAccession ID: MT259235\nDate: 06-APR-2020\nAccession ID: MT256918\nDate: 06-APR-2020\nAccession ID: MT256917\nDate: 06-APR-2020\nAccession ID: MT258383\nDate: 06-APR-2020\nAccession ID: MT258382\nDate: 06-APR-2020\nAccession ID: MT258381\nDate: 06-APR-2020\nAccession ID: MT258380\nDate: 06-APR-2020\nAccession ID: MT258379\nDate: 06-APR-2020\nAccession ID: MT258378\nDate: 06-APR-2020\nAccession ID: MT258377\nDate: 06-APR-2020\nAccession ID: MT256924\nDate: 06-APR-2020\nAccession ID: MT259231\nDate: 06-APR-2020\nAccession ID: MT259230\nDate: 06-APR-2020\nAccession ID: MT259229\nDate: 06-APR-2020\nAccession ID: MT259228\nDate: 06-APR-2020\nAccession ID: MT259227\nDate: 06-APR-2020\nAccession ID: MT259226\nDate: 06-APR-2020\nAccession ID: MT198652\nDate: 06-APR-2020\nAccession ID: MT253710\nDate: 06-APR-2020\nAccession ID: MT253709\nDate: 06-APR-2020\nAccession ID: MT253708\nDate: 06-APR-2020\nAccession ID: MT253707\nDate: 06-APR-2020\nAccession ID: MT253706\nDate: 06-APR-2020\nAccession ID: MT253705\nDate: 06-APR-2020\nAccession ID: MT253704\nDate: 06-APR-2020\nAccession ID: MT253703\nDate: 06-APR-2020\nAccession ID: MT253702\nDate: 06-APR-2020\nAccession ID: MT253701\nDate: 06-APR-2020\nAccession ID: MT253700\nDate: 06-APR-2020\nAccession ID: MT253699\nDate: 06-APR-2020\nAccession ID: MT253698\nDate: 06-APR-2020\nAccession ID: MT253697\nDate: 06-APR-2020\nAccession ID: MT253696\nDate: 06-APR-2020\nAccession ID: MT251980\nDate: 06-APR-2020\nAccession ID: MT251979\nDate: 06-APR-2020\nAccession ID: MT251978\nDate: 06-APR-2020\nAccession ID: MT251977\nDate: 06-APR-2020\nAccession ID: MT251976\nDate: 06-APR-2020\nAccession ID: MT251975\nDate: 06-APR-2020\nAccession ID: MT251974\nDate: 06-APR-2020\nAccession ID: MT251973\nDate: 06-APR-2020\nAccession ID: MT251972\nDate: 06-APR-2020\nAccession ID: MT246490\nDate: 06-APR-2020\nAccession ID: MT246489\nDate: 06-APR-2020\nAccession ID: MT246488\nDate: 06-APR-2020\nAccession ID: MT246487\nDate: 06-APR-2020\nAccession ID: MT246486\nDate: 06-APR-2020\nAccession ID: MT246485\nDate: 06-APR-2020\nAccession ID: MT246484\nDate: 06-APR-2020\nAccession ID: MT246483\nDate: 06-APR-2020\nAccession ID: MT246482\nDate: 06-APR-2020\nAccession ID: MT246481\nDate: 06-APR-2020\nAccession ID: MT246480\nDate: 06-APR-2020\nAccession ID: MT246479\nDate: 06-APR-2020\nAccession ID: MT246478\nDate: 06-APR-2020\nAccession ID: MT246477\nDate: 06-APR-2020\nAccession ID: MT246476\nDate: 06-APR-2020\nAccession ID: MT246475\nDate: 06-APR-2020\nAccession ID: MT246474\nDate: 06-APR-2020\nAccession ID: MT246473\nDate: 06-APR-2020\nAccession ID: MT246472\nDate: 06-APR-2020\nAccession ID: MT246471\nDate: 06-APR-2020\nAccession ID: MT246470\nDate: 06-APR-2020\nAccession ID: MT246469\nDate: 06-APR-2020\nAccession ID: MT246468\nDate: 06-APR-2020\nAccession ID: MT246467\nDate: 06-APR-2020\nAccession ID: MT246466\nDate: 06-APR-2020\nAccession ID: MT246465\nDate: 06-APR-2020\nAccession ID: MT246464\nDate: 06-APR-2020\nAccession ID: MT246463\nDate: 06-APR-2020\nAccession ID: MT246462\nDate: 06-APR-2020\nAccession ID: MT246461\nDate: 06-APR-2020\nAccession ID: MT246460\nDate: 06-APR-2020\nAccession ID: MT246459\nDate: 06-APR-2020\nAccession ID: MT246458\nDate: 06-APR-2020\nAccession ID: MT246457\nDate: 06-APR-2020\nAccession ID: MT246456\nDate: 06-APR-2020\nAccession ID: MT246455\nDate: 06-APR-2020\nAccession ID: MT246454\nDate: 06-APR-2020\nAccession ID: MT246453\nDate: 06-APR-2020\nAccession ID: MT246452\nDate: 06-APR-2020\nAccession ID: MT246451\nDate: 06-APR-2020\nAccession ID: MT246450\nDate: 06-APR-2020\nAccession ID: MT246449\nDate: 06-APR-2020\nAccession ID: MT240479\nDate: 06-APR-2020\nAccession ID: MT233523\nDate: 06-APR-2020\nAccession ID: MT233522\nDate: 06-APR-2020\nAccession ID: MT233521\nDate: 06-APR-2020\nAccession ID: MT233520\nDate: 06-APR-2020\nAccession ID: MT233519\nDate: 06-APR-2020\nAccession ID: MT232872\nDate: 06-APR-2020\nAccession ID: MT232871\nDate: 06-APR-2020\nAccession ID: MT232870\nDate: 06-APR-2020\nAccession ID: MT232869\nDate: 06-APR-2020\nAccession ID: MT226610\nDate: 06-APR-2020\nAccession ID: MT198653\nDate: 06-APR-2020\nAccession ID: MT198651\nDate: 06-APR-2020\nAccession ID: MT192773\nDate: 06-APR-2020\nAccession ID: MT192772\nDate: 06-APR-2020\nAccession ID: MT192765\nDate: 06-APR-2020\nAccession ID: MT192759\nDate: 06-APR-2020\nAccession ID: MT192758\nDate: 06-APR-2020\nAccession ID: MT186682\nDate: 06-APR-2020\nAccession ID: MT186681\nDate: 06-APR-2020\nAccession ID: MT186680\nDate: 06-APR-2020\nAccession ID: MT186679\nDate: 06-APR-2020\nAccession ID: MT186678\nDate: 06-APR-2020\nAccession ID: MT186677\nDate: 06-APR-2020\nAccession ID: MT186676\nDate: 06-APR-2020\nAccession ID: MT187977\nDate: 06-APR-2020\nAccession ID: MT123293\nDate: 06-APR-2020\nAccession ID: MT123292\nDate: 06-APR-2020\nAccession ID: MT123291\nDate: 06-APR-2020\nAccession ID: MT093631\nDate: 06-APR-2020\nAccession ID: MT163721\nDate: 06-APR-2020\nAccession ID: MT163720\nDate: 06-APR-2020\nAccession ID: MT163719\nDate: 06-APR-2020\nAccession ID: MT163718\nDate: 06-APR-2020\nAccession ID: MT163717\nDate: 06-APR-2020\nAccession ID: MT163716\nDate: 06-APR-2020\nAccession ID: MT163712\nDate: 06-APR-2020\nAccession ID: MT163738\nDate: 06-APR-2020\nAccession ID: MT163737\nDate: 06-APR-2020\nAccession ID: MT163715\nDate: 06-APR-2020\nAccession ID: MT163714\nDate: 06-APR-2020\nAccession ID: MT161607\nDate: 06-APR-2020\nAccession ID: MT159778\nDate: 06-APR-2020\nAccession ID: MT121215\nDate: 06-APR-2020\nAccession ID: MT152824\nDate: 06-APR-2020\nAccession ID: MT152900\nDate: 06-APR-2020\nAccession ID: MT135044\nDate: 06-APR-2020\nAccession ID: MT135043\nDate: 06-APR-2020\nAccession ID: MT135042\nDate: 06-APR-2020\nAccession ID: MT135041\nDate: 06-APR-2020\nAccession ID: MT126808\nDate: 06-APR-2020\nAccession ID: MT127116\nDate: 06-APR-2020\nAccession ID: MT127115\nDate: 06-APR-2020\nAccession ID: MT127114\nDate: 06-APR-2020\nAccession ID: MT127113\nDate: 06-APR-2020\nAccession ID: MT123290\nDate: 06-APR-2020\nAccession ID: MT111896\nDate: 06-APR-2020\nAccession ID: MT111895\nDate: 06-APR-2020\nAccession ID: MT093571\nDate: 06-APR-2020\nAccession ID: MT081068\nDate: 06-APR-2020\nAccession ID: MT081067\nDate: 06-APR-2020\nAccession ID: MT081066\nDate: 06-APR-2020\nAccession ID: MT081065\nDate: 06-APR-2020\nAccession ID: MT081064\nDate: 06-APR-2020\nAccession ID: MT081063\nDate: 06-APR-2020\nAccession ID: MT081062\nDate: 06-APR-2020\nAccession ID: MT081061\nDate: 06-APR-2020\nAccession ID: MT081060\nDate: 06-APR-2020\nAccession ID: MT081059\nDate: 06-APR-2020\nAccession ID: MT072667\nDate: 06-APR-2020\nAccession ID: MT072668\nDate: 06-APR-2020\nAccession ID: MT072688\nDate: 06-APR-2020\nAccession ID: MT066176\nDate: 06-APR-2020\nAccession ID: MT066175\nDate: 06-APR-2020\nAccession ID: MT066159\nDate: 06-APR-2020\nAccession ID: MT066158\nDate: 06-APR-2020\nAccession ID: MT066157\nDate: 06-APR-2020\nAccession ID: MT066156\nDate: 06-APR-2020\nAccession ID: MT050493\nDate: 06-APR-2020\nAccession ID: MT050417\nDate: 06-APR-2020\nAccession ID: MT050416\nDate: 06-APR-2020\nAccession ID: MT050415\nDate: 06-APR-2020\nAccession ID: MT050414\nDate: 06-APR-2020\nAccession ID: MT049951\nDate: 06-APR-2020\nAccession ID: MT042778\nDate: 06-APR-2020\nAccession ID: MT042777\nDate: 06-APR-2020\nAccession ID: MT042776\nDate: 06-APR-2020\nAccession ID: MT042775\nDate: 06-APR-2020\nAccession ID: MT042774\nDate: 06-APR-2020\nAccession ID: MT042773\nDate: 06-APR-2020\nAccession ID: MT012098\nDate: 05-APR-2020\nAccession ID: NM_021804\nDate: 05-APR-2020\nAccession ID: NM_001371415\nDate: 03-APR-2020\nAccession ID: NM_005656\nDate: 05-APR-2020\nAccession ID: NM_001003841\nDate: 03-APR-2020\nAccession ID: NM_001135099\nDate: 03-APR-2020\nAccession ID: MT246667\nDate: 03-APR-2020\nAccession ID: MT233526\nDate: 30-MAR-2020\nAccession ID: NC_045512\nDate: 28-MAR-2020\nAccession ID: LC534419\nDate: 28-MAR-2020\nAccession ID: LC534418\nDate: 27-MAR-2020\nAccession ID: MN985325\nDate: 17-MAR-2020\nAccession ID: MT020781\nDate: 18-MAR-2020\nAccession ID: MN996531\nDate: 18-MAR-2020\nAccession ID: MN996530\nDate: 18-MAR-2020\nAccession ID: MN996529\nDate: 18-MAR-2020\nAccession ID: MN996528\nDate: 18-MAR-2020\nAccession ID: MN996527\nDate: 18-MAR-2020\nAccession ID: MN908947\nDate: 13-MAR-2020\nAccession ID: MT188341\nDate: 13-MAR-2020\nAccession ID: MT188340\nDate: 13-MAR-2020\nAccession ID: MT188339\nDate: 12-MAR-2020\nAccession ID: MT184913\nDate: 12-MAR-2020\nAccession ID: MT184912\nDate: 12-MAR-2020\nAccession ID: MT184911\nDate: 12-MAR-2020\nAccession ID: MT184910\nDate: 12-MAR-2020\nAccession ID: MT184909\nDate: 12-MAR-2020\nAccession ID: MT184908\nDate: 12-MAR-2020\nAccession ID: MT184907\nDate: 07-MAR-2020\nAccession ID: LC529905\nDate: 06-MAR-2020\nAccession ID: LR757998\nDate: 06-MAR-2020\nAccession ID: LR757997\nDate: 06-MAR-2020\nAccession ID: LR757996\nDate: 06-MAR-2020\nAccession ID: LR757995\nDate: 09-MAR-2020\nAccession ID: MT159722\nDate: 09-MAR-2020\nAccession ID: MT159721\nDate: 09-MAR-2020\nAccession ID: MT159720\nDate: 09-MAR-2020\nAccession ID: MT159719\nDate: 09-MAR-2020\nAccession ID: MT159718\nDate: 09-MAR-2020\nAccession ID: MT159717\nDate: 09-MAR-2020\nAccession ID: MT159716\nDate: 09-MAR-2020\nAccession ID: MT159715\nDate: 09-MAR-2020\nAccession ID: MT159714\nDate: 09-MAR-2020\nAccession ID: MT159713\nDate: 09-MAR-2020\nAccession ID: MT159712\nDate: 09-MAR-2020\nAccession ID: MT159711\nDate: 09-MAR-2020\nAccession ID: MT159710\nDate: 09-MAR-2020\nAccession ID: MT159709\nDate: 09-MAR-2020\nAccession ID: MT159708\nDate: 09-MAR-2020\nAccession ID: MT159707\nDate: 09-MAR-2020\nAccession ID: MT159706\nDate: 09-MAR-2020\nAccession ID: MT159705\nDate: 29-FEB-2020\nAccession ID: LC528233\nDate: 29-FEB-2020\nAccession ID: LC528232\nDate: 27-FEB-2020\nAccession ID: MT118835\nDate: 24-FEB-2020\nAccession ID: MT106054\nDate: 24-FEB-2020\nAccession ID: MT106053\nDate: 24-FEB-2020\nAccession ID: MT106052\nDate: 13-FEB-2020\nAccession ID: LC523809\nDate: 13-FEB-2020\nAccession ID: LC523808\nDate: 13-FEB-2020\nAccession ID: LC523807\nDate: 12-FEB-2020\nAccession ID: MT044258\nDate: 12-FEB-2020\nAccession ID: MT044257\nDate: 11-FEB-2020\nAccession ID: MT039888\nDate: 11-FEB-2020\nAccession ID: MT039887\nDate: 11-FEB-2020\nAccession ID: MT039890\nDate: 11-FEB-2020\nAccession ID: MT039873\nDate: 13-FEB-2020\nAccession ID: LC522350\nDate: 11-FEB-2020\nAccession ID: MT027064\nDate: 11-FEB-2020\nAccession ID: MT027063\nDate: 11-FEB-2020\nAccession ID: MT027062\nDate: 11-FEB-2020\nAccession ID: MT020881\nDate: 11-FEB-2020\nAccession ID: MT020880\nDate: 11-FEB-2020\nAccession ID: MT019533\nDate: 11-FEB-2020\nAccession ID: MT019532\nDate: 11-FEB-2020\nAccession ID: MT019531\nDate: 11-FEB-2020\nAccession ID: MT019530\nDate: 11-FEB-2020\nAccession ID: MT019529\nDate: 11-FEB-2020\nAccession ID: MT008023\nDate: 11-FEB-2020\nAccession ID: MT008022\nDate: 11-FEB-2020\nAccession ID: MT007544\nDate: 11-FEB-2020\nAccession ID: MN997409\nDate: 11-FEB-2020\nAccession ID: MN994468\nDate: 11-FEB-2020\nAccession ID: MN994467\nDate: 11-FEB-2020\nAccession ID: MN988713\nDate: 11-FEB-2020\nAccession ID: MN988669\nDate: 11-FEB-2020\nAccession ID: MN988668\nDate: 11-FEB-2020\nAccession ID: MN975268\nDate: 11-FEB-2020\nAccession ID: MN975267\nDate: 11-FEB-2020\nAccession ID: MN975266\nDate: 11-FEB-2020\nAccession ID: MN975265\nDate: 11-FEB-2020\nAccession ID: MN975264\nDate: 11-FEB-2020\nAccession ID: MN975263\nDate: 11-FEB-2020\nAccession ID: MN975262\nDate: 11-FEB-2020\nAccession ID: MN938390\nDate: 11-FEB-2020\nAccession ID: MN938389\nDate: 11-FEB-2020\nAccession ID: MN938388\nDate: 11-FEB-2020\nAccession ID: MN938387\nDate: 11-FEB-2020\nAccession ID: MN938386\nDate: 11-FEB-2020\nAccession ID: MN938385\nDate: 11-FEB-2020\nAccession ID: MN938384\nDate: 11-FEB-2020\nAccession ID: MN970004\nDate: 11-FEB-2020\nAccession ID: MN970003\n"
    }
   ],
   "source": [
    "Entrez.email = \"ramsstephen+vmb651@gmail.com\"\n",
    "with Entrez.esearch(\n",
    "    db=\"nucleotide\", term=\"SARS-CoV-2\", idtype=\"acc\", retmax=1000\n",
    ") as result_handle:\n",
    "    sequence_ids_combined = \",\".join(Entrez.read(result_handle)[\"IdList\"])\n",
    "    with Entrez.efetch(\n",
    "        db=\"nucleotide\", retmode=\"xml\", id=sequence_ids_combined\n",
    "    ) as sub_result_handle:\n",
    "        for rec in Entrez.read(sub_result_handle):\n",
    "            print(f\"Date: {rec['GBSeq_update-date']}\")\n",
    "            print(f\"Accession ID: {rec['GBSeq_primary-accession']}\")"
   ]
  },
  {
   "cell_type": "code",
   "execution_count": null,
   "metadata": {},
   "outputs": [],
   "source": []
  }
 ]
}